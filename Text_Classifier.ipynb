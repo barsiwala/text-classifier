{
 "cells": [
  {
   "cell_type": "code",
   "execution_count": 59,
   "metadata": {
    "collapsed": false
   },
   "outputs": [
    {
     "name": "stdout",
     "output_type": "stream",
     "text": [
      "showing info https://raw.githubusercontent.com/nltk/nltk_data/gh-pages/index.xml\n"
     ]
    }
   ],
   "source": [
    "import numpy as np\n",
    "import pandas as pd\n",
    "import nltk\n",
    "nltk.download() \n",
    "import re\n",
    "import matplotlib.pyplot as plt\n",
    "import string\n",
    "import seaborn as sns\n",
    "%matplotlib inline  \n",
    "from sklearn.feature_extraction.text import CountVectorizer, TfidfTransformer\n",
    "from sklearn.feature_extraction.text import \n",
    "from sklearn.naive_bayes import MultinomialNB\n",
    "from textblob import TextBlob\n",
    "from nltk.corpus import stopwords\n",
    "from nltk.stem import PorterStemmer\n",
    "from sklearn.cross_validation import KFold, StratifiedKFold, cross_val_score, train_test_split\n",
    "from sklearn.metrics import confusion_matrix, f1_score, classification_report, accuracy_score \n",
    "from sklearn.pipeline import Pipeline\n",
    "from sklearn.ensemble import RandomForestClassifier\n",
    "from sklearn.grid_search import GridSearchCV\n",
    "from sklearn.linear_model import SGDClassifier\n",
    "from sklearn.linear_model import LogisticRegression"
   ]
  },
  {
   "cell_type": "markdown",
   "metadata": {},
   "source": [
    "### Dataset Loading"
   ]
  },
  {
   "cell_type": "code",
   "execution_count": 2,
   "metadata": {
    "collapsed": false
   },
   "outputs": [],
   "source": [
    "name = pd.read_csv(\"C:/Users/Murtaza/Desktop/SCU NOTES/all_name.csv\",names = ['String'],header = 0)\n",
    "name['label'] = 'Name'"
   ]
  },
  {
   "cell_type": "code",
   "execution_count": 3,
   "metadata": {
    "collapsed": false
   },
   "outputs": [],
   "source": [
    "location = pd.read_csv(\"C:/Users/Murtaza/Desktop/SCU NOTES/locations.csv\",na_filter=False)\n",
    "location = location.replace(['NULL'], '')\n",
    "location['String'] = location['address'] + \" \" +  location['city'] + \" \" + location['state'] + \" \" + location['country']\n",
    "location = location.drop(['address','city','state','country'], axis = 1)\n",
    "location['label'] = 'Location'\n",
    "def unique_loc(x):\n",
    "    s=x.lower()\n",
    "    slist = s.split()\n",
    "    return \" \".join(sorted(set(slist), key=slist.index)) \n",
    "location['String'] = location['String'].apply(lambda x: unique_loc(x))"
   ]
  },
  {
   "cell_type": "code",
   "execution_count": 4,
   "metadata": {
    "collapsed": false
   },
   "outputs": [],
   "source": [
    "title = pd.read_csv(\"C:/Users/Murtaza/Desktop/SCU NOTES/titles.csv\",names = ['String'],header = 0)\n",
    "title['label'] = 'Title'"
   ]
  },
  {
   "cell_type": "code",
   "execution_count": 5,
   "metadata": {
    "collapsed": false
   },
   "outputs": [],
   "source": [
    "# Concatenating the three datasets into a single dataset\n",
    "nlt = pd.concat([name,location,title])\n",
    "nlt = nlt.reset_index()"
   ]
  },
  {
   "cell_type": "markdown",
   "metadata": {
    "collapsed": true
   },
   "source": [
    "### Data Preprocessing"
   ]
  },
  {
   "cell_type": "code",
   "execution_count": 6,
   "metadata": {
    "collapsed": false
   },
   "outputs": [],
   "source": [
    "# Pre-Processing functions\n",
    "\n",
    "# function to remove punctuation\n",
    "def remove_punc(message):\n",
    "    message = unicode(message, 'utf8').lower()\n",
    "    message = re.sub(r'[^0-9a-zA-Z\\s]', '', message)\n",
    "    return message\n",
    "\n",
    "# function to remove stopwords\n",
    "def remove_stopwords(message):\n",
    "    words = TextBlob(message).words\n",
    "    stops = set(stopwords.words(\"english\")) \n",
    "    return [w for w in words if not w in stops]\n",
    "\n",
    "# function to detect if a string has a stopword\n",
    "def is_stopwords(message):\n",
    "    count = 0\n",
    "    words = TextBlob(message).words\n",
    "    stops = set(stopwords.words(\"english\")) \n",
    "    for w in words:\n",
    "        if w in stops:\n",
    "            count+=1\n",
    "    if count > 0:\n",
    "        return 1\n",
    "    else:\n",
    "        return 0     "
   ]
  },
  {
   "cell_type": "code",
   "execution_count": 7,
   "metadata": {
    "collapsed": false
   },
   "outputs": [],
   "source": [
    "# Removing Punctuation\n",
    "nlt['String'] = nlt.String.apply(lambda x: remove_punc(x))"
   ]
  },
  {
   "cell_type": "markdown",
   "metadata": {},
   "source": [
    "#### One of the distinguishing feature between a title and name and address would be the presence of stopwords in a title. Let's find out if the hypothesis is true or not."
   ]
  },
  {
   "cell_type": "code",
   "execution_count": 9,
   "metadata": {
    "collapsed": false
   },
   "outputs": [],
   "source": [
    "# Creating another column using the function defined above to check the presence of a stopword\n",
    "nlt['stopwords'] = nlt.String.apply(lambda x: is_stopwords(x))"
   ]
  },
  {
   "cell_type": "code",
   "execution_count": 10,
   "metadata": {
    "collapsed": false
   },
   "outputs": [
    {
     "data": {
      "text/plain": [
       "label     stopwords\n",
       "Location  0            94.536380\n",
       "          1             5.463620\n",
       "Name      0            90.858398\n",
       "          1             9.141602\n",
       "Title     0            60.850000\n",
       "          1            39.150000\n",
       "dtype: float64"
      ]
     },
     "execution_count": 10,
     "metadata": {},
     "output_type": "execute_result"
    }
   ],
   "source": [
    "# Percentage of labels that have stopwords\n",
    "a = nlt.groupby(\"label\").size()\n",
    "b =  nlt.groupby([\"label\",\"stopwords\"]).size()\n",
    "c = b.div(a, level = \"label\") * 100\n",
    "c"
   ]
  },
  {
   "cell_type": "code",
   "execution_count": 11,
   "metadata": {
    "collapsed": false
   },
   "outputs": [
    {
     "data": {
      "text/plain": [
       "<seaborn.axisgrid.FacetGrid at 0x1615dc88>"
      ]
     },
     "execution_count": 11,
     "metadata": {},
     "output_type": "execute_result"
    },
    {
     "data": {
      "image/png": "[encoded data removed]",
      "text/plain": [
       "<matplotlib.figure.Figure at 0x1615dcf8>"
      ]
     },
     "metadata": {},
     "output_type": "display_data"
    }
   ],
   "source": [
    "# Visualiation\n",
    "c = c.reset_index()\n",
    "c.columns.values[2] = \"percent\"\n",
    "fg = sns.factorplot(x='label', y='percent', hue=\"stopwords\",kind = 'bar',data=c,  size=4, aspect=2)\n",
    "fg.set_xlabels('')"
   ]
  },
  {
   "cell_type": "markdown",
   "metadata": {},
   "source": [
    "#### As we can see from the above graph, it clearly shows that Title have significamtly more % of stopwords as compared to Location and Name. Thus, Ill move forward without removing the stopwords."
   ]
  },
  {
   "cell_type": "markdown",
   "metadata": {
    "collapsed": false
   },
   "source": [
    "#### Also, since location, title and name are all nouns, stemming and lemmatisation may not be needed."
   ]
  },
  {
   "cell_type": "markdown",
   "metadata": {
    "collapsed": false
   },
   "source": [
    "### Train and Test Set"
   ]
  },
  {
   "cell_type": "code",
   "execution_count": 12,
   "metadata": {
    "collapsed": false
   },
   "outputs": [],
   "source": [
    "X_train, X_test, y_train, y_test = train_test_split(nlt['String'] , nlt['label'], test_size=0.20, random_state=42)"
   ]
  },
  {
   "cell_type": "code",
   "execution_count": 13,
   "metadata": {
    "collapsed": false
   },
   "outputs": [
    {
     "data": {
      "text/plain": [
       "<matplotlib.axes._subplots.AxesSubplot at 0x15d8dcc0>"
      ]
     },
     "execution_count": 13,
     "metadata": {},
     "output_type": "execute_result"
    },
    {
     "data": {
      "image/png": "[encoded data removed]",
      "text/plain": [
       "<matplotlib.figure.Figure at 0x1647dc88>"
      ]
     },
     "metadata": {},
     "output_type": "display_data"
    }
   ],
   "source": [
    "# Distribution of labels in the training set\n",
    "y_train.value_counts().plot(kind='bar')"
   ]
  },
  {
   "cell_type": "code",
   "execution_count": 14,
   "metadata": {
    "collapsed": false
   },
   "outputs": [
    {
     "data": {
      "text/plain": [
       "<matplotlib.axes._subplots.AxesSubplot at 0x16741cc0>"
      ]
     },
     "execution_count": 14,
     "metadata": {},
     "output_type": "execute_result"
    },
    {
     "data": {
      "image/png": "[encoded data removed]",
      "text/plain": [
       "<matplotlib.figure.Figure at 0x167580f0>"
      ]
     },
     "metadata": {},
     "output_type": "display_data"
    }
   ],
   "source": [
    "# Distribution of labels in the test set\n",
    "y_test.value_counts().plot(kind='bar')"
   ]
  },
  {
   "cell_type": "markdown",
   "metadata": {
    "collapsed": true
   },
   "source": [
    "## Model Building"
   ]
  },
  {
   "cell_type": "code",
   "execution_count": 79,
   "metadata": {
    "collapsed": false
   },
   "outputs": [],
   "source": [
    "pipeline_nb = Pipeline([('vect',  CountVectorizer()),('tfidf', TfidfTransformer()),('clf_nb',  MultinomialNB())])\n",
    "pipeline_sgdc = Pipeline([('vect', CountVectorizer()),('tfidf', TfidfTransformer()),('clf_sgdc', SGDClassifier(loss='hinge', penalty='l2',alpha=1e-3, n_iter=5, random_state=42))])\n",
    "pipeline_rf = Pipeline([('vect', CountVectorizer()),('tfidf', TfidfTransformer()),('clf_rf', RandomForestClassifier(random_state = 42))])\n",
    "pipeline_lr =  Pipeline([('vect', CountVectorizer()),('tfidf', TfidfTransformer()),('clf_lr', LogisticRegression(random_state = 42))])"
   ]
  },
  {
   "cell_type": "code",
   "execution_count": 80,
   "metadata": {
    "collapsed": false
   },
   "outputs": [
    {
     "name": "stdout",
     "output_type": "stream",
     "text": [
      "[ 0.97989816  0.98117735  0.98053749  0.98003093  0.9794705 ]\n"
     ]
    }
   ],
   "source": [
    "# 5-Fold Crossvalidation result for Naive Bayes Classifier\n",
    "scores_nb = cross_val_score(pipeline_nb,  # steps to convert raw messages into models\n",
    "                         X_train,  # training data\n",
    "                         y_train,  # training labels\n",
    "                         cv=5,  # split data randomly into 5 parts: 4 for training, 1 for scoring\n",
    "                         scoring='accuracy',  # which scoring metric?\n",
    "                         n_jobs=1,  # -1 = use all cores = faster\n",
    "                         )\n",
    "print scores_nb"
   ]
  },
  {
   "cell_type": "code",
   "execution_count": 81,
   "metadata": {
    "collapsed": false
   },
   "outputs": [
    {
     "name": "stdout",
     "output_type": "stream",
     "text": [
      "0.980222883504 0.000586234638657\n"
     ]
    }
   ],
   "source": [
    "print scores_nb.mean(), scores_nb.std()"
   ]
  },
  {
   "cell_type": "code",
   "execution_count": 82,
   "metadata": {
    "collapsed": false
   },
   "outputs": [
    {
     "name": "stdout",
     "output_type": "stream",
     "text": [
      "Wall time: 2min 8s\n",
      "[ 0.99410808  0.99528101  0.99496107  0.99496107  0.99434772]\n"
     ]
    }
   ],
   "source": [
    "# 5-Fold Crossvalidation result for Random Forest\n",
    "% time scores_rf = cross_val_score(pipeline_rf,X_train,y_train,cv=5,scoring='accuracy',n_jobs=1)\n",
    "print scores_rf"
   ]
  },
  {
   "cell_type": "code",
   "execution_count": 83,
   "metadata": {
    "collapsed": false
   },
   "outputs": [
    {
     "name": "stdout",
     "output_type": "stream",
     "text": [
      "0.994731791829 0.000434350980291\n"
     ]
    }
   ],
   "source": [
    "print scores_rf.mean(), scores_rf.std()"
   ]
  },
  {
   "cell_type": "code",
   "execution_count": 84,
   "metadata": {
    "collapsed": false
   },
   "outputs": [
    {
     "name": "stdout",
     "output_type": "stream",
     "text": [
      "Wall time: 13.4 s\n",
      "[ 0.94150737  0.93931961  0.94049269  0.94097259  0.94139761]\n"
     ]
    }
   ],
   "source": [
    "# 5-Fold Crossvalidation result for SGDC Classifier\n",
    "% time scores_sgdc = cross_val_score(pipeline_sgdc, X_train,y_train,cv=5,scoring='accuracy',n_jobs=1)\n",
    "print scores_sgdc"
   ]
  },
  {
   "cell_type": "code",
   "execution_count": 85,
   "metadata": {
    "collapsed": false
   },
   "outputs": [
    {
     "name": "stdout",
     "output_type": "stream",
     "text": [
      "0.940737975313 0.000794234936237\n"
     ]
    }
   ],
   "source": [
    "print scores_svm.mean(), scores_svm.std()"
   ]
  },
  {
   "cell_type": "code",
   "execution_count": 86,
   "metadata": {
    "collapsed": false
   },
   "outputs": [
    {
     "name": "stdout",
     "output_type": "stream",
     "text": [
      "Wall time: 24.2 s\n",
      "[ 0.99141539  0.99202837  0.99152181  0.99162845  0.9908817 ]\n"
     ]
    }
   ],
   "source": [
    "% time scores_lr = cross_val_score(pipeline_lr,X_train,y_train,cv=5,scoring='accuracy',n_jobs=1)\n",
    "print scores_lr"
   ]
  },
  {
   "cell_type": "code",
   "execution_count": 87,
   "metadata": {
    "collapsed": false
   },
   "outputs": [
    {
     "name": "stdout",
     "output_type": "stream",
     "text": [
      "0.991495144856 0.000370264867841\n"
     ]
    }
   ],
   "source": [
    "print scores_lr.mean(), scores_lr.std()"
   ]
  },
  {
   "cell_type": "markdown",
   "metadata": {},
   "source": [
    "#### From the above 4 models Logistic Regression and Random Forest seems to be the best performing model"
   ]
  },
  {
   "cell_type": "markdown",
   "metadata": {},
   "source": [
    "### Model Tuning"
   ]
  },
  {
   "cell_type": "code",
   "execution_count": 88,
   "metadata": {
    "collapsed": false
   },
   "outputs": [],
   "source": [
    "# Let's find the optimal tuning parameter for count vectorizer using grid search with the logistic regression model\n",
    "params = {\n",
    "    'tfidf__use_idf': (True, False), # use tf-idf or not\n",
    "    'vect__ngram_range': ((1, 1), (1, 2))  # unigrams or bigrams\n",
    "}\n",
    "\n",
    "grid = GridSearchCV(\n",
    "    pipeline_lr,  # pipeline from above\n",
    "    params,  # parameters to tune via cross validation\n",
    "    refit=True,  # fit using all available data at the end, on the best found param combination\n",
    "    n_jobs=1,  # number of cores to use for parallelization; -1 for \"all cores\"\n",
    "    scoring='accuracy',  # what score are we optimizing?\n",
    "    cv=StratifiedKFold(y_train, n_folds=5),  # what type of cross validation to use\n",
    ")"
   ]
  },
  {
   "cell_type": "code",
   "execution_count": 89,
   "metadata": {
    "collapsed": false
   },
   "outputs": [
    {
     "name": "stdout",
     "output_type": "stream",
     "text": [
      "Wall time: 2min 19s\n",
      "[mean: 0.99150, std: 0.00037, params: {'vect__ngram_range': (1, 1), 'tfidf__use_idf': True}, mean: 0.99111, std: 0.00042, params: {'vect__ngram_range': (1, 2), 'tfidf__use_idf': True}, mean: 0.99122, std: 0.00049, params: {'vect__ngram_range': (1, 1), 'tfidf__use_idf': False}, mean: 0.99097, std: 0.00044, params: {'vect__ngram_range': (1, 2), 'tfidf__use_idf': False}]\n"
     ]
    }
   ],
   "source": [
    "%time lr_detector = grid.fit(X_train, y_train)\n",
    "print lr_detector.grid_scores_"
   ]
  },
  {
   "cell_type": "code",
   "execution_count": 91,
   "metadata": {
    "collapsed": false
   },
   "outputs": [
    {
     "name": "stdout",
     "output_type": "stream",
     "text": [
      "{'vect__ngram_range': (1, 1), 'tfidf__use_idf': True}\n",
      "0.991495147702\n"
     ]
    }
   ],
   "source": [
    "print lr_detector.best_params_\n",
    "print lr_detector.best_score_"
   ]
  },
  {
   "cell_type": "markdown",
   "metadata": {},
   "source": [
    "#### So from above using Tf-idf with unigrams gives the best result."
   ]
  },
  {
   "cell_type": "code",
   "execution_count": 92,
   "metadata": {
    "collapsed": false
   },
   "outputs": [],
   "source": [
    "# Let's find the optimal tuning parameter for random forest model\n",
    "params_rf = {\"clf_rf__n_estimators\" : [5, 10, 20]}\n",
    "\n",
    "grid_rf = GridSearchCV(\n",
    "    pipeline_rf,  # pipeline from above\n",
    "    params_rf,  # parameters to tune via cross validation\n",
    "    refit=True,  # fit using all available data at the end, on the best found param combination\n",
    "    n_jobs=1,  # number of cores to use for parallelization; -1 for \"all cores\"\n",
    "    scoring='accuracy',  # what score are we optimizing?\n",
    "    cv=StratifiedKFold(y_train, n_folds=5),  # what type of cross validation to use\n",
    ")"
   ]
  },
  {
   "cell_type": "code",
   "execution_count": 93,
   "metadata": {
    "collapsed": false
   },
   "outputs": [
    {
     "name": "stdout",
     "output_type": "stream",
     "text": [
      "Wall time: 8min 49s\n",
      "[mean: 0.98179, std: 0.00618, params: {'clf_rf__n_estimators': 5}, mean: 0.99473, std: 0.00043, params: {'clf_rf__n_estimators': 10}, mean: 0.98758, std: 0.00374, params: {'clf_rf__n_estimators': 20}]\n"
     ]
    }
   ],
   "source": [
    "%time rf_detector = grid_rf.fit(X_train, y_train)\n",
    "print rf_detector.grid_scores_"
   ]
  },
  {
   "cell_type": "code",
   "execution_count": 94,
   "metadata": {
    "collapsed": false
   },
   "outputs": [
    {
     "name": "stdout",
     "output_type": "stream",
     "text": [
      "{'clf_rf__n_estimators': 10}\n",
      "0.994731790551\n"
     ]
    }
   ],
   "source": [
    "print rf_detector.best_params_\n",
    "print rf_detector.best_score_"
   ]
  },
  {
   "cell_type": "code",
   "execution_count": 95,
   "metadata": {
    "collapsed": false
   },
   "outputs": [],
   "source": [
    "# Let's find the optimal tuning parameter for SGDC model\n",
    "params_sgdc ={'vect__ngram_range': [(1, 1), (1, 2)],'tfidf__use_idf': (True, False),'clf_sgdc__alpha': (1e-2, 1e-3)}\n",
    "\n",
    "grid_sgdc = GridSearchCV(\n",
    "    pipeline_sgdc,  # pipeline from above\n",
    "    params_sgdc,  # parameters to tune via cross validation\n",
    "    refit=True,  # fit using all available data at the end, on the best found param combination\n",
    "    n_jobs=1,  # number of cores to use for parallelization; -1 for \"all cores\"\n",
    "    scoring='accuracy',  # what score are we optimizing?\n",
    "    cv=StratifiedKFold(y_train, n_folds=5),  # what type of cross validation to use\n",
    ")"
   ]
  },
  {
   "cell_type": "code",
   "execution_count": 96,
   "metadata": {
    "collapsed": false
   },
   "outputs": [
    {
     "name": "stdout",
     "output_type": "stream",
     "text": [
      "Wall time: 2min 30s\n",
      "[mean: 0.84699, std: 0.00880, params: {'vect__ngram_range': (1, 1), 'tfidf__use_idf': True, 'clf_sgdc__alpha': 0.01}, mean: 0.88487, std: 0.07624, params: {'vect__ngram_range': (1, 2), 'tfidf__use_idf': True, 'clf_sgdc__alpha': 0.01}, mean: 0.82304, std: 0.00077, params: {'vect__ngram_range': (1, 1), 'tfidf__use_idf': False, 'clf_sgdc__alpha': 0.01}, mean: 0.82262, std: 0.00078, params: {'vect__ngram_range': (1, 2), 'tfidf__use_idf': False, 'clf_sgdc__alpha': 0.01}, mean: 0.94074, std: 0.00079, params: {'vect__ngram_range': (1, 1), 'tfidf__use_idf': True, 'clf_sgdc__alpha': 0.001}, mean: 0.91033, std: 0.00067, params: {'vect__ngram_range': (1, 2), 'tfidf__use_idf': True, 'clf_sgdc__alpha': 0.001}, mean: 0.95208, std: 0.00060, params: {'vect__ngram_range': (1, 1), 'tfidf__use_idf': False, 'clf_sgdc__alpha': 0.001}, mean: 0.93825, std: 0.00078, params: {'vect__ngram_range': (1, 2), 'tfidf__use_idf': False, 'clf_sgdc__alpha': 0.001}]\n"
     ]
    }
   ],
   "source": [
    "%time sgdc_detector = grid_sgdc.fit(X_train, y_train)\n",
    "print sgdc_detector.grid_scores_"
   ]
  },
  {
   "cell_type": "code",
   "execution_count": 97,
   "metadata": {
    "collapsed": false
   },
   "outputs": [
    {
     "name": "stdout",
     "output_type": "stream",
     "text": [
      "{'vect__ngram_range': (1, 1), 'tfidf__use_idf': False, 'clf_sgdc__alpha': 0.001}\n",
      "0.952079556361\n"
     ]
    }
   ],
   "source": [
    "print sgdc_detector.best_params_\n",
    "print sgdc_detector.best_score_"
   ]
  },
  {
   "cell_type": "markdown",
   "metadata": {},
   "source": [
    "### Results on Test Set"
   ]
  },
  {
   "cell_type": "code",
   "execution_count": 98,
   "metadata": {
    "collapsed": false
   },
   "outputs": [
    {
     "name": "stdout",
     "output_type": "stream",
     "text": [
      "[[24948     7     0]\n",
      " [  764 19102    15]\n",
      " [   37    56  1956]]\n",
      "             precision    recall  f1-score   support\n",
      "\n",
      "   Location       0.97      1.00      0.98     24955\n",
      "       Name       1.00      0.96      0.98     19881\n",
      "      Title       0.99      0.95      0.97      2049\n",
      "\n",
      "avg / total       0.98      0.98      0.98     46885\n",
      "\n",
      "Accuracy Score: 0.981251999573\n"
     ]
    }
   ],
   "source": [
    "# Result on Test Dataset using Naive Bayes Classifier\n",
    "pipeline_nb = pipeline_nb.fit(X_train,y_train)\n",
    "predicted = pipeline_nb.predict(X_test)\n",
    "print confusion_matrix(y_test, predicted)\n",
    "print classification_report(y_test, predicted)\n",
    "print 'Accuracy Score:',accuracy_score(y_test, predicted)"
   ]
  },
  {
   "cell_type": "code",
   "execution_count": 99,
   "metadata": {
    "collapsed": false
   },
   "outputs": [
    {
     "name": "stdout",
     "output_type": "stream",
     "text": [
      "[[24839   116     0]\n",
      " [  126 19753     2]\n",
      " [    4   152  1893]]\n",
      "             precision    recall  f1-score   support\n",
      "\n",
      "   Location       0.99      1.00      1.00     24955\n",
      "       Name       0.99      0.99      0.99     19881\n",
      "      Title       1.00      0.92      0.96      2049\n",
      "\n",
      "avg / total       0.99      0.99      0.99     46885\n",
      "\n",
      "Accuracy Score: 0.991468486723\n"
     ]
    }
   ],
   "source": [
    "# Result on Test Dataset using logistic regression model\n",
    "predictions = lr_detector.predict(X_test)\n",
    "print confusion_matrix(y_test, predictions)\n",
    "print classification_report(y_test, predictions)\n",
    "print 'Accuracy Score:',accuracy_score(y_test, predictions)"
   ]
  },
  {
   "cell_type": "code",
   "execution_count": 100,
   "metadata": {
    "collapsed": false
   },
   "outputs": [
    {
     "name": "stdout",
     "output_type": "stream",
     "text": [
      "[[24923    29     3]\n",
      " [   59 19769    53]\n",
      " [    3    75  1971]]\n",
      "             precision    recall  f1-score   support\n",
      "\n",
      "   Location       1.00      1.00      1.00     24955\n",
      "       Name       0.99      0.99      0.99     19881\n",
      "      Title       0.97      0.96      0.97      2049\n",
      "\n",
      "avg / total       1.00      1.00      1.00     46885\n",
      "\n",
      "Accuracy Score: 0.995265010131\n"
     ]
    }
   ],
   "source": [
    "# Result on Test Dataset using Random Forest Clasifier\n",
    "predictions = rf_detector.predict(X_test)\n",
    "print confusion_matrix(y_test, predictions)\n",
    "print classification_report(y_test, predictions)\n",
    "print 'Accuracy Score:',accuracy_score(y_test, predictions)"
   ]
  },
  {
   "cell_type": "code",
   "execution_count": 101,
   "metadata": {
    "collapsed": false
   },
   "outputs": [
    {
     "name": "stdout",
     "output_type": "stream",
     "text": [
      "[[23309  1645     1]\n",
      " [  115 19763     3]\n",
      " [    6   536  1507]]\n",
      "             precision    recall  f1-score   support\n",
      "\n",
      "   Location       0.99      0.93      0.96     24955\n",
      "       Name       0.90      0.99      0.95     19881\n",
      "      Title       1.00      0.74      0.85      2049\n",
      "\n",
      "avg / total       0.95      0.95      0.95     46885\n",
      "\n",
      "Accuracy Score: 0.950815825957\n"
     ]
    }
   ],
   "source": [
    "# Result on Test Dataset using SGDC Classifier\n",
    "#pipeline_svm = pipeline_svm.fit(X_train,y_train)\n",
    "predicted = sgdc_detector.predict(X_test)\n",
    "print confusion_matrix(y_test, predicted)\n",
    "print classification_report(y_test, predicted)\n",
    "print 'Accuracy Score:',accuracy_score(y_test, predicted)"
   ]
  },
  {
   "cell_type": "code",
   "execution_count": null,
   "metadata": {
    "collapsed": false
   },
   "outputs": [],
   "source": []
  },
  {
   "cell_type": "code",
   "execution_count": null,
   "metadata": {
    "collapsed": false
   },
   "outputs": [],
   "source": [
    "\n"
   ]
  },
  {
   "cell_type": "code",
   "execution_count": null,
   "metadata": {
    "collapsed": true
   },
   "outputs": [],
   "source": []
  }
 ],
 "metadata": {
  "kernelspec": {
   "display_name": "Python 2",
   "language": "python",
   "name": "python2"
  },
  "language_info": {
   "codemirror_mode": {
    "name": "ipython",
    "version": 2
   },
   "file_extension": ".py",
   "mimetype": "text/x-python",
   "name": "python",
   "nbconvert_exporter": "python",
   "pygments_lexer": "ipython2",
   "version": "2.7.11"
  }
 },
 "nbformat": 4,
 "nbformat_minor": 0
}
